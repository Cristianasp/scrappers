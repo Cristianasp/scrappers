{
 "cells": [
  {
   "cell_type": "markdown",
   "metadata": {
    "toc": true
   },
   "source": [
    "<h1>Table of Contens<span class=\"tocSkip\"></span></h1>\n",
    "<div class=\"toc\"><ul class=\"toc-item\"><li><span><a href=\"#Scrapper-Post-Offices\" data-toc-modified-id=\"Scrapper-Post-Offices-1\"><span class=\"toc-item-num\">1&nbsp;&nbsp;</span>Scrapper Post Offices</a></span></li><li><span><a href=\"#Libraries\" data-toc-modified-id=\"Libraries-2\"><span class=\"toc-item-num\">2&nbsp;&nbsp;</span>Libraries</a></span></li><li><span><a href=\"#Page-Source\" data-toc-modified-id=\"Page-Source-3\"><span class=\"toc-item-num\">3&nbsp;&nbsp;</span>Page Source</a></span></li><li><span><a href=\"#Browser-Firefox\" data-toc-modified-id=\"Browser-Firefox-4\"><span class=\"toc-item-num\">4&nbsp;&nbsp;</span>Browser Firefox</a></span></li><li><span><a href=\"#Process-page\" data-toc-modified-id=\"Process-page-5\"><span class=\"toc-item-num\">5&nbsp;&nbsp;</span>Process page</a></span></li><li><span><a href=\"#Convert-Result-List-to-Dataframe\" data-toc-modified-id=\"Convert-Result-List-to-Dataframe-6\"><span class=\"toc-item-num\">6&nbsp;&nbsp;</span>Convert Result List to Dataframe</a></span></li><li><span><a href=\"#New-column---post-office-agency-type\" data-toc-modified-id=\"New-column---post-office-agency-type-7\"><span class=\"toc-item-num\">7&nbsp;&nbsp;</span>New column - post office agency type</a></span></li><li><span><a href=\"#Summarization-table\" data-toc-modified-id=\"Summarization-table-8\"><span class=\"toc-item-num\">8&nbsp;&nbsp;</span>Summarization table</a></span></li><li><span><a href=\"#Detailed-summarization-table\" data-toc-modified-id=\"Detailed-summarization-table-9\"><span class=\"toc-item-num\">9&nbsp;&nbsp;</span>Detailed summarization table</a></span></li><li><span><a href=\"#SAVE\" data-toc-modified-id=\"SAVE-10\"><span class=\"toc-item-num\">10&nbsp;&nbsp;</span>SAVE</a></span></li><li><span><a href=\"#Close-Browser-;-)\" data-toc-modified-id=\"Close-Browser-;-)-11\"><span class=\"toc-item-num\">11&nbsp;&nbsp;</span>Close Browser ;-)</a></span></li></ul></div>"
   ]
  },
  {
   "cell_type": "markdown",
   "metadata": {},
   "source": [
    "# Scrapper Post Offices\n",
    "\n",
    "Scrapper to count Post Offices per City, In Brazil"
   ]
  },
  {
   "cell_type": "markdown",
   "metadata": {},
   "source": [
    "# Libraries"
   ]
  },
  {
   "cell_type": "code",
   "execution_count": null,
   "metadata": {},
   "outputs": [],
   "source": [
    "# To instal Selenium: conda install -c conda-forge selenium \n",
    "from selenium import webdriver \n",
    "from selenium.webdriver.support.ui import Select\n",
    "\n",
    "# To install BeautifulSoup: conda install -c anaconda beautifulsoup4\n",
    "from bs4 import BeautifulSoup\n",
    "\n",
    "# Donwload geckodriver: https://github.com/mozilla/geckodriver\n",
    "\n",
    "import pandas as pd\n",
    " \n",
    "import time"
   ]
  },
  {
   "cell_type": "code",
   "execution_count": null,
   "metadata": {},
   "outputs": [],
   "source": [
    "pd.options.display.max_colwidth = 150\n",
    "pd.options.display.max_rows = 500"
   ]
  },
  {
   "cell_type": "markdown",
   "metadata": {},
   "source": [
    "# Page Source"
   ]
  },
  {
   "cell_type": "code",
   "execution_count": null,
   "metadata": {},
   "outputs": [],
   "source": [
    "src = \"http://www2.correios.com.br/sistemas/agencias/\""
   ]
  },
  {
   "cell_type": "markdown",
   "metadata": {},
   "source": [
    "# Browser Firefox"
   ]
  },
  {
   "cell_type": "code",
   "execution_count": null,
   "metadata": {},
   "outputs": [],
   "source": [
    "browser = webdriver.Firefox()  \n",
    "browser.get(src)  "
   ]
  },
  {
   "cell_type": "markdown",
   "metadata": {},
   "source": [
    "# Process page"
   ]
  },
  {
   "cell_type": "code",
   "execution_count": null,
   "metadata": {},
   "outputs": [],
   "source": [
    "result = []"
   ]
  },
  {
   "cell_type": "code",
   "execution_count": null,
   "metadata": {},
   "outputs": [],
   "source": [
    "# select the state drop down list\n",
    "select = Select(browser.find_element_by_id(\"estadoAgencia\"))\n",
    "states= [ option.text for option in select.options ] \n",
    "print(states)"
   ]
  },
  {
   "cell_type": "code",
   "execution_count": null,
   "metadata": {
    "scrolled": true
   },
   "outputs": [],
   "source": [
    "# select the state drop down list\n",
    "select = Select(browser.find_element_by_id(\"estadoAgencia\"))\n",
    "\n",
    "for option in (select.options):\n",
    "        \n",
    "        if option.text : # if this is not an empty value\n",
    "        \n",
    "            print(option.text)\n",
    "            #select.select_by_visible_text(\"SÃO PAULO\")\n",
    "            select.select_by_visible_text(option.text)\n",
    "\n",
    "            # select the city\n",
    "            select2 = Select(browser.find_element_by_id(\"municipioAgencia\"))\n",
    "\n",
    "            for option2 in select2.options:\n",
    "                \n",
    "                if option2.text: # if this is not an empty value\n",
    "\n",
    "                    select2.select_by_visible_text(option2.text)\n",
    "                    #select2.select_by_visible_text(\"AGUAS DA PRATA\")\n",
    "\n",
    "                    # Sleep... otherwise you will get blocked\n",
    "                    time.sleep(25)\n",
    "\n",
    "                    #soup = BeautifulSoup(html, 'lxml')\n",
    "                    #a = soup.find('section', 'wrapper')\n",
    "                    html_source = browser.page_source \n",
    "                    soup = BeautifulSoup(html_source,'html.parser')\n",
    "\n",
    "                    results = soup.find('div',{'class':'resultadoAgencia'})\n",
    "\n",
    "                    # Look for: <table class=\"agencia listEvent\" id=\"tableNomeAgencia\">\n",
    "\n",
    "                    if results.findAll('table', id=\"tableNomeAgencia\"):\n",
    "\n",
    "                        agencies = results.findAll('table', id=\"tableNomeAgencia\")      \n",
    "\n",
    "                        '''\n",
    "                        <table class=\"agencia listEvent\" id=\"tableNomeAgencia\">\n",
    "                            <tbody><tr>\n",
    "                            <td class=\"bullet ageNomeEvent nomeAgencia\"><a href=\"javaScript:mostrarDetalheAgencia('2','1','','')\">AC AGUAS DA PRATA              - AGENCIA CORREIO               </a></td>\n",
    "                            <td class=\"text-right\">\n",
    "                            </td>\n",
    "                            </tr>\n",
    "                            </tbody></table>\n",
    "                        '''\n",
    "                        for agency in agencies:\n",
    "                            name= agency.find(\"td\")\n",
    "                            # print(option.text, option2.text, name.text)\n",
    "                            result = result + [[option.text, option2.text, \" \".join(name.text.split())]]\n",
    "        \n",
    "       "
   ]
  },
  {
   "cell_type": "markdown",
   "metadata": {},
   "source": [
    "# Convert Result List to Dataframe"
   ]
  },
  {
   "cell_type": "code",
   "execution_count": null,
   "metadata": {},
   "outputs": [],
   "source": [
    "df = pd.DataFrame(result, columns = [\"STATE\",\"CITY\",\"AGENCY\"])"
   ]
  },
  {
   "cell_type": "code",
   "execution_count": null,
   "metadata": {},
   "outputs": [],
   "source": [
    "df.shape"
   ]
  },
  {
   "cell_type": "code",
   "execution_count": null,
   "metadata": {},
   "outputs": [],
   "source": [
    "df.tail()"
   ]
  },
  {
   "cell_type": "markdown",
   "metadata": {},
   "source": [
    "# New column - post office agency type"
   ]
  },
  {
   "cell_type": "code",
   "execution_count": null,
   "metadata": {},
   "outputs": [],
   "source": [
    "df[\"TYPE\"] = df[\"AGENCY\"].str.partition(\"-\")[2].str.strip()"
   ]
  },
  {
   "cell_type": "code",
   "execution_count": null,
   "metadata": {},
   "outputs": [],
   "source": [
    "df[\"TYPE\"].value_counts()"
   ]
  },
  {
   "cell_type": "code",
   "execution_count": null,
   "metadata": {},
   "outputs": [],
   "source": [
    "mask = df[\"TYPE\"] == \"LANDIA - AG CORREIOS COMUNITARIA\"\n",
    "df[mask]"
   ]
  },
  {
   "cell_type": "code",
   "execution_count": null,
   "metadata": {},
   "outputs": [],
   "source": [
    "df.loc[mask,\"AGENCY\"] = \"AGC LEALANDIA - AG CORREIOS COMUNITARIA\""
   ]
  },
  {
   "cell_type": "code",
   "execution_count": null,
   "metadata": {},
   "outputs": [],
   "source": [
    "df[\"TYPE\"] = df[\"AGENCY\"].str.partition(\"-\")[2].str.strip()"
   ]
  },
  {
   "cell_type": "code",
   "execution_count": null,
   "metadata": {},
   "outputs": [],
   "source": [
    "df[\"TYPE\"].value_counts()"
   ]
  },
  {
   "cell_type": "code",
   "execution_count": null,
   "metadata": {},
   "outputs": [],
   "source": [
    "df[\"TYPE\"].str.partition(\"(\")[0].str.strip().value_counts()"
   ]
  },
  {
   "cell_type": "code",
   "execution_count": null,
   "metadata": {},
   "outputs": [],
   "source": [
    "df[\"TYPE\"] = df[\"TYPE\"].str.partition(\"(\")[0].str.strip()"
   ]
  },
  {
   "cell_type": "code",
   "execution_count": null,
   "metadata": {},
   "outputs": [],
   "source": [
    "df[\"TYPE\"].value_counts()"
   ]
  },
  {
   "cell_type": "markdown",
   "metadata": {},
   "source": [
    "# Summarization table"
   ]
  },
  {
   "cell_type": "code",
   "execution_count": null,
   "metadata": {
    "scrolled": false
   },
   "outputs": [],
   "source": [
    "df.pivot_table(index=[\"STATE\",\"CITY\"], values=\"AGENCY\",aggfunc=\"count\").reset_index().sort_values(by=\"AGENCY\", ascending=False).head(20)"
   ]
  },
  {
   "cell_type": "code",
   "execution_count": null,
   "metadata": {},
   "outputs": [],
   "source": [
    "table1= df.pivot_table(index=[\"STATE\",\"CITY\"], values=\"AGENCY\",aggfunc=\"count\").reset_index().sort_values(by=\"AGENCY\", ascending=False)"
   ]
  },
  {
   "cell_type": "markdown",
   "metadata": {},
   "source": [
    "# Detailed summarization table"
   ]
  },
  {
   "cell_type": "code",
   "execution_count": null,
   "metadata": {},
   "outputs": [],
   "source": [
    "df.pivot_table(index=[\"STATE\",\"CITY\"], columns=\"TYPE\", values=\"AGENCY\",aggfunc=\"count\", fill_value=0).reset_index().sort_values(by=\"AG CORREIOS COMUNITARIA\", ascending=False).head(20)"
   ]
  },
  {
   "cell_type": "code",
   "execution_count": null,
   "metadata": {},
   "outputs": [],
   "source": [
    "table2 = df.pivot_table(index=[\"STATE\",\"CITY\"], columns=\"TYPE\", values=\"AGENCY\",aggfunc=\"count\", fill_value=0).reset_index().sort_values(by=\"AG CORREIOS COMUNITARIA\", ascending=False)"
   ]
  },
  {
   "cell_type": "markdown",
   "metadata": {},
   "source": [
    "# SAVE"
   ]
  },
  {
   "cell_type": "code",
   "execution_count": null,
   "metadata": {},
   "outputs": [],
   "source": [
    "writer = pd.ExcelWriter( \"data_final.xlsx\" )\n",
    "        \n",
    "df.to_excel(writer, sheet_name= \"DATA\", index=False)\n",
    "table1.to_excel(writer, sheet_name= \"TABLE1\", index=False)\n",
    "table2.to_excel(writer, sheet_name= \"TABLE2\", index=False)\n",
    "        \n",
    "writer.save()    \n",
    "        "
   ]
  },
  {
   "cell_type": "markdown",
   "metadata": {},
   "source": [
    "# Close Browser ;-)"
   ]
  },
  {
   "cell_type": "code",
   "execution_count": null,
   "metadata": {},
   "outputs": [],
   "source": [
    "browser.close()"
   ]
  },
  {
   "cell_type": "code",
   "execution_count": null,
   "metadata": {},
   "outputs": [],
   "source": []
  }
 ],
 "metadata": {
  "kernelspec": {
   "display_name": "Python 3",
   "language": "python",
   "name": "python3"
  },
  "language_info": {
   "codemirror_mode": {
    "name": "ipython",
    "version": 3
   },
   "file_extension": ".py",
   "mimetype": "text/x-python",
   "name": "python",
   "nbconvert_exporter": "python",
   "pygments_lexer": "ipython3",
   "version": "3.7.3"
  },
  "toc": {
   "base_numbering": 1,
   "nav_menu": {},
   "number_sections": true,
   "sideBar": true,
   "skip_h1_title": false,
   "title_cell": "Table of Contens",
   "title_sidebar": "Contents",
   "toc_cell": true,
   "toc_position": {},
   "toc_section_display": true,
   "toc_window_display": true
  }
 },
 "nbformat": 4,
 "nbformat_minor": 2
}
